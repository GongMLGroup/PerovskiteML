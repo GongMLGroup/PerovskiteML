{
 "cells": [
  {
   "cell_type": "markdown",
   "metadata": {},
   "source": [
    "This notebook is an example of how the `preprocess_data` function can save and load data to speed up computations in the future. By changing the ranges for the `THRESHOLD` and `DEPTH_THRESHOLD` a grid of preprocessed data can be generated."
   ]
  },
  {
   "cell_type": "code",
   "execution_count": 1,
   "metadata": {},
   "outputs": [
    {
     "name": "stdout",
     "output_type": "stream",
     "text": [
      "Data utils loaded\n"
     ]
    }
   ],
   "source": [
    "from scripts import *"
   ]
  },
  {
   "cell_type": "code",
   "execution_count": 2,
   "metadata": {},
   "outputs": [],
   "source": [
    "# Threshold (%) of data for a feature to be included\n",
    "THRESHOLD = [0.5, 0.63, 0.75, 0.95, 0.995]\n",
    "# Depth Threshold (%) of data included from layer data.\n",
    "# --- picks the maximum depth that includes the threshold % of devices\n",
    "DEPTH_THRESHOLD = [0.0, 0.25, 0.5, 0.75, 1.0]\n",
    "\n",
    "EXCLUDED_SECTIONS = [\n",
    "    \"Reference information\",\n",
    "    \"Cell definition\",\n",
    "    \"Outdoor testing\",\n",
    "    \"JV data\"\n",
    "]\n",
    "\n",
    "EXCLUDED_COLS = [\n",
    "    \"Outdoor_time_start\",\n",
    "    \"Outdoor_time_end\"\n",
    "]"
   ]
  },
  {
   "cell_type": "code",
   "execution_count": 3,
   "metadata": {},
   "outputs": [
    {
     "name": "stdout",
     "output_type": "stream",
     "text": [
      "File already exists: ../../data/preprocessed\\expanded_data_d0.0_t0.5_7d6320bdaa910cd5a5ec1d71413a9a1d.parquet\n",
      "Loading Data...\n",
      "File already exists: ../../data/preprocessed\\expanded_data_d0.25_t0.5_f05af0baf529a3033c3b4f41bb0772c3.parquet\n",
      "Loading Data...\n",
      "File already exists: ../../data/preprocessed\\expanded_data_d0.5_t0.5_7b3088046d46b1d6413515fd60aef235.parquet\n",
      "Loading Data...\n",
      "File already exists: ../../data/preprocessed\\expanded_data_d0.75_t0.5_df9521a2ce9f055a826b06e12328dffe.parquet\n",
      "Loading Data...\n",
      "File already exists: ../../data/preprocessed\\expanded_data_d1.0_t0.5_90151cff8700c76e31a3b14ec48edc65.parquet\n",
      "Loading Data...\n",
      "File already exists: ../../data/preprocessed\\expanded_data_d0.0_t0.63_5786717d2770a2a0f3c57e7dea53c1cf.parquet\n",
      "Loading Data...\n",
      "File already exists: ../../data/preprocessed\\expanded_data_d0.25_t0.63_78dca2d86697f63d7d8c1a3d25b9e08f.parquet\n",
      "Loading Data...\n",
      "File already exists: ../../data/preprocessed\\expanded_data_d0.5_t0.63_da19db9350b5d5f39e69cae2e7d7b28e.parquet\n",
      "Loading Data...\n",
      "File already exists: ../../data/preprocessed\\expanded_data_d0.75_t0.63_ba8cc2c0ea04039862baad91822cd338.parquet\n",
      "Loading Data...\n",
      "File already exists: ../../data/preprocessed\\expanded_data_d1.0_t0.63_67d5cc3dd0c1ee2c9c52856071601ade.parquet\n",
      "Loading Data...\n",
      "File already exists: ../../data/preprocessed\\expanded_data_d0.0_t0.75_a2ad12c19e1cf604018df7829583b7f1.parquet\n",
      "Loading Data...\n",
      "File already exists: ../../data/preprocessed\\expanded_data_d0.25_t0.75_b43b04936d7fc37d77871c0df361f791.parquet\n",
      "Loading Data...\n",
      "File already exists: ../../data/preprocessed\\expanded_data_d0.5_t0.75_be76eba632b91ae515dda53a0890ab03.parquet\n",
      "Loading Data...\n",
      "File already exists: ../../data/preprocessed\\expanded_data_d0.75_t0.75_c1dd01c94015ed5744983d88f3ac97a5.parquet\n",
      "Loading Data...\n",
      "File already exists: ../../data/preprocessed\\expanded_data_d1.0_t0.75_1ed5427f22cbde296d9d8f6c9e134b19.parquet\n",
      "Loading Data...\n",
      "File already exists: ../../data/preprocessed\\expanded_data_d0.0_t0.95_13eba7bfd20156d33a721b82eecbea00.parquet\n",
      "Loading Data...\n",
      "File already exists: ../../data/preprocessed\\expanded_data_d0.25_t0.95_6119572b13ec12f8b06f4b592a05cf4b.parquet\n",
      "Loading Data...\n",
      "File already exists: ../../data/preprocessed\\expanded_data_d0.5_t0.95_6c7bf4b9b0adbc2aa5737d79e2426c65.parquet\n",
      "Loading Data...\n",
      "File already exists: ../../data/preprocessed\\expanded_data_d0.75_t0.95_4d468b48c30a1dc7a9a380533c12b3c8.parquet\n",
      "Loading Data...\n",
      "File already exists: ../../data/preprocessed\\expanded_data_d1.0_t0.95_f538baf60f61f3ff067f340eccfdf99b.parquet\n",
      "Loading Data...\n",
      "File already exists: ../../data/preprocessed\\expanded_data_d0.0_t0.995_fb1d0424e15bf85abb940d0009c7e730.parquet\n",
      "Loading Data...\n",
      "File already exists: ../../data/preprocessed\\expanded_data_d0.25_t0.995_151a9879c5a038fc7354792d88b8a8ff.parquet\n",
      "Loading Data...\n",
      "File already exists: ../../data/preprocessed\\expanded_data_d0.5_t0.995_90f5783142b3fa3efd7d1b471b40e218.parquet\n",
      "Loading Data...\n",
      "File already exists: ../../data/preprocessed\\expanded_data_d0.75_t0.995_329349913215658c2b89e5fe44f454b4.parquet\n",
      "Loading Data...\n",
      "File already exists: ../../data/preprocessed\\expanded_data_d1.0_t0.995_d3e397f19d50e7364a322992ac613982.parquet\n",
      "Loading Data...\n"
     ]
    }
   ],
   "source": [
    "# If combinations of parameters has not been seen yet, this could take a couple minutes.\n",
    "for threshold in THRESHOLD:\n",
    "    for depth in DEPTH_THRESHOLD:\n",
    "        data, selector = preprocess_data(\n",
    "            threshold,\n",
    "            depth,\n",
    "            exclude_sections=EXCLUDED_SECTIONS,\n",
    "            exclude_cols=EXCLUDED_COLS,\n",
    "            verbose=False\n",
    "        )"
   ]
  },
  {
   "cell_type": "code",
   "execution_count": null,
   "metadata": {},
   "outputs": [],
   "source": []
  }
 ],
 "metadata": {
  "kernelspec": {
   "display_name": ".venv",
   "language": "python",
   "name": "python3"
  },
  "language_info": {
   "codemirror_mode": {
    "name": "ipython",
    "version": 3
   },
   "file_extension": ".py",
   "mimetype": "text/x-python",
   "name": "python",
   "nbconvert_exporter": "python",
   "pygments_lexer": "ipython3",
   "version": "3.12.0"
  }
 },
 "nbformat": 4,
 "nbformat_minor": 2
}
